{
  "nbformat": 4,
  "nbformat_minor": 0,
  "metadata": {
    "colab": {
      "provenance": []
    },
    "kernelspec": {
      "name": "python3",
      "display_name": "Python 3"
    },
    "language_info": {
      "name": "python"
    }
  },
  "cells": [
    {
      "cell_type": "code",
      "execution_count": null,
      "metadata": {
        "id": "q9B_EK4Me9ix"
      },
      "outputs": [],
      "source": [
        "# Q1: Data Encoding and Its Usefulness:\n",
        "# Data encoding is the process of converting categorical data into a numerical format so that machine learning algorithms can process it.\n",
        "# Many machine learning algorithms (e.g., linear regression, decision trees) require numerical input data.\n",
        "# Encoding techniques help represent categorical features, making them suitable for machine learning models.\n",
        "\n",
        "# Q2: Nominal Encoding:\n",
        "# Nominal encoding is a method of encoding categorical variables where each category is assigned a unique integer value.\n",
        "# It is useful when the categorical data does not have an inherent order or ranking.\n",
        "# Example: If we have a \"Color\" feature with values [\"Red\", \"Blue\", \"Green\"], we could assign values:\n",
        "# \"Red\" -> 0, \"Blue\" -> 1, \"Green\" -> 2.\n",
        "# This encoding allows the machine learning algorithm to handle categorical data, but it does not impose any order on the categories.\n",
        "\n",
        "# Q3: When Nominal Encoding is Preferred Over One-Hot Encoding:\n",
        "# Nominal encoding is preferred when there are many categories in a feature, and one-hot encoding would create an unmanageable number of columns.\n",
        "# Example: If a dataset has a \"Country\" feature with 1000 unique countries, one-hot encoding would create 1000 columns, which may lead to high dimensionality.\n",
        "# Nominal encoding, on the other hand, would only require a single column, thus avoiding the curse of dimensionality.\n",
        "\n",
        "# Q4: Choosing an Encoding Technique for 5 Unique Values:\n",
        "# For categorical data with 5 unique values, one-hot encoding would be a good choice if the categories are not ordinal.\n",
        "# One-hot encoding transforms each category into a binary column, which is useful when the model should not interpret the categories as having any ordinal relationship.\n",
        "# Example: If the feature \"Car Brand\" has values [\"Toyota\", \"Honda\", \"Ford\", \"BMW\", \"Audi\"], one-hot encoding would create 5 binary columns.\n",
        "\n",
        "# Q5: Number of New Columns Created by Nominal Encoding:\n",
        "# If nominal encoding is used on a categorical feature with 5 unique values, only 1 column will be created for that feature.\n",
        "# Nominal encoding assigns an integer to each category, keeping the data in a single column.\n",
        "# Therefore, no additional columns will be created in this case (just 1 column with encoded values).\n",
        "# If two categorical columns are encoded, 2 new columns will be created in total.\n",
        "\n",
        "# Q6: Encoding Technique for Animal Dataset:\n",
        "# In a dataset containing categorical features like \"species\", \"habitat\", and \"diet\", a combination of encoding methods may be used:\n",
        "# 1. For features with no inherent order (e.g., \"species\", \"habitat\"), one-hot encoding can be used to avoid ordering.\n",
        "# 2. For features with ordinal relationships (e.g., \"diet\" with categories \"Herbivore\", \"Carnivore\", \"Omnivore\"), ordinal encoding could be appropriate.\n",
        "# This ensures that categorical data is properly encoded for machine learning models.\n",
        "\n",
        "# Q7: Encoding for Customer Churn Prediction:\n",
        "# In the customer churn dataset with features like \"gender\", \"contract type\", \"monthly charges\", and \"tenure\":\n",
        "# 1. \"Gender\" is a binary categorical feature, so one-hot encoding would be appropriate, creating 2 columns (e.g., \"gender_Female\", \"gender_Male\").\n",
        "# 2. \"Contract type\" is a categorical feature with multiple categories (e.g., \"Month-to-month\", \"One-year\", \"Two-year\").\n",
        "#    One-hot encoding would be ideal here, creating 3 columns for the 3 contract types.\n",
        "# 3. \"Monthly charges\" and \"tenure\" are numerical features, so no encoding is required for them.\n",
        "# Step-by-step:\n",
        "# 1. Apply one-hot encoding to \"gender\" and \"contract type\" features.\n",
        "# 2. Use the encoded columns and the original numerical columns for modeling.\n"
      ]
    }
  ]
}